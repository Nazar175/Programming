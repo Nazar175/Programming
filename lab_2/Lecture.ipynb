{
 "cells": [
  {
   "cell_type": "markdown",
   "id": "a7983f49",
   "metadata": {},
   "source": [
    "## Останній тип даних - словники"
   ]
  },
  {
   "cell_type": "code",
   "execution_count": 3,
   "id": "1968fd83",
   "metadata": {},
   "outputs": [
    {
     "name": "stdout",
     "output_type": "stream",
     "text": [
      "a Брехня <class 'list'> <class 'dict'>\n",
      "Брехня False\n",
      "Тепер це рядок Брехня Брехня\n",
      "{0: 'Брехня', '0': 'a', 'Нуль': 'а', 1: '!!!', 2: 'c', 'Брехня': False}\n",
      "e\n",
      "Ввідповідь:  OK 3\n"
     ]
    }
   ],
   "source": [
    "l = [\"a\", \"b\", \"c\"]\n",
    "d = {0: \"a\", \"0\": \"a\", \"Нуль\": \"а\",  1: \"b\", True: \"!!!\", 2: \"c\", 0: 5, False: \"Брехня\", \"Брехня\": False}\n",
    "d2 = dict(one=1, two=2, three=3)\n",
    "print(l[0], d[0], type(l), type(d))\n",
    "print(d[False], d[\"Брехня\"])\n",
    "d[\"False\"] = \"Тепер це рядок\"\n",
    "print(d[\"False\"], d[False], d[0])\n",
    "d.pop(\"False\")\n",
    "print(d)\n",
    "n = 1\n",
    "d[n] = [\"Get\", [2, \"New\"], 3]\n",
    "print(d[n].pop(1)[1][1])\n",
    "\n",
    "responce = {\"Status\": \"OK\", \"Result\": [0, 1, 2, 3, 4, 5]}\n",
    "\n",
    "print(\"Ввідповідь: \", responce[\"Status\"], responce[\"Result\"][3])"
   ]
  },
  {
   "cell_type": "code",
   "execution_count": 6,
   "id": "9f2a5147",
   "metadata": {},
   "outputs": [
    {
     "name": "stdout",
     "output_type": "stream",
     "text": [
      "Відповідь від сервера:  OK <class 'dict'>\n"
     ]
    }
   ],
   "source": [
    "import json\n",
    "\n",
    "with open(\"test.json\", \"r\", encoding=\"utf-8\") as f:\n",
    "    data = json.load(f)\n",
    "    print(\"Відповідь від сервера: \", data[\"Status\"], type(data))"
   ]
  },
  {
   "cell_type": "markdown",
   "id": "41cec81f",
   "metadata": {},
   "source": [
    "## Вбудовані константи"
   ]
  },
  {
   "cell_type": "code",
   "execution_count": null,
   "id": "bf3ae455",
   "metadata": {},
   "outputs": [
    {
     "name": "stdout",
     "output_type": "stream",
     "text": [
      "<class 'builtin_function_or_method'>\n",
      "<map object at 0x000001C58C433E20>\n",
      "Вивід\n",
      "через\n",
      "мапу\n",
      "[3, 6, 8, 1, 5, 7, 3, 2]\n",
      "None\n",
      "[1, 2, 3, 3, 5, 6, 7, 8]\n",
      "При простому поверненні з функції:  None\n",
      "Щось\n",
      "True False False\n",
      "Help on built-in function print in module builtins:\n",
      "\n",
      "print(*args, sep=' ', end='\\n', file=None, flush=False)\n",
      "    Prints the values to a stream, or to sys.stdout by default.\n",
      "\n",
      "    sep\n",
      "      string inserted between values, default a space.\n",
      "    end\n",
      "      string appended after the last value, default a newline.\n",
      "    file\n",
      "      a file-like object (stream); defaults to the current sys.stdout.\n",
      "    flush\n",
      "      whether to forcibly flush the stream.\n",
      "\n"
     ]
    }
   ],
   "source": [
    "print(type(print))\n",
    "\n",
    "mm = map(print, [\"Вивід\", \"через\", \"мапу\"])\n",
    "print(mm)\n",
    "list(mm)\n",
    "\n",
    "l = [3, 6,8,1,5, 7,3, 2]\n",
    "print(l)\n",
    "print(l.sort())\n",
    "print(l)\n",
    "\n",
    "def f():\n",
    "    return\n",
    "\n",
    "print(\"При простому поверненні з функції: \", f())\n",
    "\n",
    "print(\"Щось\")\n",
    "\n",
    "print(bool(\"Це буде істина\"), bool(''), bool(None))\n",
    "\n",
    "help(print)"
   ]
  },
  {
   "cell_type": "markdown",
   "id": "d3c8b887",
   "metadata": {},
   "source": [
    "## Цикли в Пайтон"
   ]
  },
  {
   "cell_type": "code",
   "execution_count": 8,
   "id": "95662b6b",
   "metadata": {},
   "outputs": [
    {
     "name": "stdout",
     "output_type": "stream",
     "text": [
      "1\n",
      "2\n",
      "3\n",
      "3\n",
      "2\n",
      "1\n",
      "1\n",
      "2\n",
      "3\n"
     ]
    }
   ],
   "source": [
    "l = [1, 2, 3]\n",
    "for i in l:\n",
    "    print(i)\n",
    "\n",
    "while len(l) > 0:\n",
    "    print(l.pop())\n",
    "\n",
    "l = [1, 2, 3]\n",
    "i = 0\n",
    "while i < len(l):\n",
    "    print(l[i])\n",
    "    i += 1"
   ]
  },
  {
   "cell_type": "markdown",
   "id": "7cbe297a",
   "metadata": {},
   "source": [
    "Завдання\n",
    "симулювати пачку лотерею, та вибрати 10 випадковий кульок і подивитись на їх кольори а також визначити скільки нам попалось жовтих кульок"
   ]
  },
  {
   "cell_type": "code",
   "execution_count": 12,
   "id": "0bccf004",
   "metadata": {},
   "outputs": [
    {
     "name": "stdout",
     "output_type": "stream",
     "text": [
      "3\n"
     ]
    }
   ],
   "source": [
    "import random\n",
    "bead = [\"red\", \"blue\", \"green\", \"yellow\", \"black\", \"white\"]\n",
    "bead_pack = [] \n",
    "for _ in range(100):\n",
    "    bead_pack.append(random.choice(bead))\n",
    "print(bead_pack[:10].count(\"yellow\"))"
   ]
  },
  {
   "cell_type": "code",
   "execution_count": 13,
   "id": "2b99a9a4",
   "metadata": {},
   "outputs": [
    {
     "name": "stdout",
     "output_type": "stream",
     "text": [
      "2\n"
     ]
    }
   ],
   "source": [
    "bead_pack = []\n",
    "while len(bead_pack) <= 100:\n",
    "    bead_pack.append(random.choice(bead))\n",
    "print(bead_pack[:10].count(\"yellow\"))"
   ]
  },
  {
   "cell_type": "code",
   "execution_count": 18,
   "id": "c6b41f0e",
   "metadata": {},
   "outputs": [
    {
     "name": "stdout",
     "output_type": "stream",
     "text": [
      "green\n",
      "green\n",
      "yellow\n",
      "Знайшли жовту кульку\n"
     ]
    }
   ],
   "source": [
    "for bead in bead_pack[50:60]:\n",
    "    print(bead)\n",
    "    if bead == \"yellow\":\n",
    "        print(\"Знайшли жовту кульку\")\n",
    "        break\n",
    "else:\n",
    "    print(\"Жовтих кульок немає\")"
   ]
  },
  {
   "cell_type": "code",
   "execution_count": 21,
   "id": "190f538f",
   "metadata": {},
   "outputs": [
    {
     "name": "stdout",
     "output_type": "stream",
     "text": [
      "Забираємо кульку: black\n",
      "Забираємо кульку: red\n",
      "Забираємо кульку: blue\n",
      "Віддаємо жовту кульку\n",
      "Забираємо кульку: white\n",
      "Віддаємо жовту кульку\n",
      "Забираємо кульку: black\n",
      "Забираємо кульку: white\n",
      "Забираємо кульку: green\n",
      "Забираємо кульку: white\n",
      "Забираємо кульку: black\n",
      "Забираємо кульку: white\n",
      "Забираємо кульку: green\n",
      "Забираємо кульку: green\n",
      "Забираємо кульку: white\n",
      "Забираємо кульку: white\n",
      "Забираємо кульку: blue\n",
      "Забираємо кульку: red\n",
      "Забираємо кульку: white\n",
      "Забираємо кульку: black\n",
      "Забираємо кульку: white\n",
      "Забираємо кульку: blue\n",
      "Забираємо кульку: green\n",
      "Забираємо кульку: blue\n",
      "Забираємо кульку: green\n",
      "Віддаємо жовту кульку\n",
      "Забираємо кульку: blue\n",
      "Забираємо кульку: red\n",
      "Віддаємо жовту кульку\n",
      "Забираємо кульку: green\n",
      "Забираємо кульку: blue\n",
      "Забираємо кульку: green\n",
      "Забираємо кульку: white\n",
      "Забираємо кульку: red\n",
      "Забираємо кульку: red\n",
      "Забираємо кульку: white\n",
      "Забираємо кульку: green\n",
      "Забираємо кульку: red\n",
      "Забираємо кульку: white\n",
      "Забираємо кульку: black\n",
      "Забираємо кульку: red\n",
      "Забираємо кульку: black\n",
      "Віддаємо жовту кульку\n",
      "Забираємо кульку: blue\n",
      "Забираємо кульку: red\n",
      "Забираємо кульку: black\n",
      "Забираємо кульку: green\n",
      "Забираємо кульку: blue\n",
      "Забираємо кульку: black\n",
      "Забираємо кульку: green\n",
      "Забираємо кульку: green\n",
      "Забираємо кульку: green\n",
      "Віддаємо жовту кульку\n",
      "Забираємо кульку: red\n",
      "Забираємо кульку: red\n",
      "Забираємо кульку: blue\n",
      "Забираємо кульку: white\n",
      "Забираємо кульку: red\n",
      "Забираємо кульку: green\n",
      "Забираємо кульку: white\n",
      "Віддаємо жовту кульку\n",
      "Забираємо кульку: black\n",
      "Забираємо кульку: blue\n",
      "Забираємо кульку: white\n",
      "Забираємо кульку: white\n",
      "Забираємо кульку: green\n",
      "Забираємо кульку: white\n",
      "Віддаємо жовту кульку\n",
      "Забираємо кульку: red\n",
      "Забираємо кульку: black\n",
      "Забираємо кульку: blue\n",
      "Віддаємо жовту кульку\n",
      "Забираємо кульку: blue\n",
      "Забираємо кульку: white\n",
      "Забираємо кульку: black\n",
      "Забираємо кульку: red\n",
      "Віддаємо жовту кульку\n",
      "Забираємо кульку: green\n",
      "Забираємо кульку: blue\n",
      "Забираємо кульку: blue\n",
      "Забираємо кульку: red\n",
      "Забираємо кульку: white\n",
      "Віддаємо жовту кульку\n",
      "Забираємо кульку: blue\n",
      "Забираємо кульку: blue\n",
      "Забираємо кульку: red\n",
      "Забираємо кульку: blue\n",
      "Забираємо кульку: black\n",
      "Забираємо кульку: black\n",
      "Забираємо кульку: blue\n",
      "Забираємо кульку: blue\n",
      "Віддаємо жовту кульку\n",
      "Забираємо кульку: white\n",
      "Віддаємо жовту кульку\n",
      "Забираємо кульку: blue\n",
      "Забираємо кульку: black\n",
      "Забираємо кульку: white\n",
      "Забираємо кульку: red\n",
      "Забираємо кульку: white\n",
      "Забираємо кульку: white\n",
      "Забираємо кульку: blue\n"
     ]
    }
   ],
   "source": [
    "for color in bead_pack:\n",
    "    if color == \"yellow\":\n",
    "        print(\"Віддаємо жовту кульку\")\n",
    "        continue\n",
    "    print(\"Забираємо кульку:\", color)"
   ]
  }
 ],
 "metadata": {
  "kernelspec": {
   "display_name": "Python 3",
   "language": "python",
   "name": "python3"
  },
  "language_info": {
   "codemirror_mode": {
    "name": "ipython",
    "version": 3
   },
   "file_extension": ".py",
   "mimetype": "text/x-python",
   "name": "python",
   "nbconvert_exporter": "python",
   "pygments_lexer": "ipython3",
   "version": "3.13.7"
  }
 },
 "nbformat": 4,
 "nbformat_minor": 5
}
