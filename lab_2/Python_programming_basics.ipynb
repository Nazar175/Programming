{
 "cells": [
  {
   "cell_type": "code",
   "execution_count": 3,
   "id": "54fb53df",
   "metadata": {},
   "outputs": [
    {
     "name": "stdout",
     "output_type": "stream",
     "text": [
      "Назар 19 1.82\n",
      "['зимовий спорт', 'програмування', 19]\n",
      "{'name': 'Назар', 'age': 19}\n",
      "(90, 85, 100)\n",
      "{1, 2, 3}\n"
     ]
    }
   ],
   "source": [
    "name = \"Назар\"       # str\n",
    "age = 19             # int\n",
    "height = 1.82        # float\n",
    "hobbies = [\"зимовий спорт\", \"програмування\", age]  # list\n",
    "user = {\"name\": name, \"age\": age}          # dict\n",
    "grades = (90, 85, 100)                     # tuple\n",
    "unique_numbers = {1, 2, 3, 2, 1}           # set\n",
    "\n",
    "print(name, age, height)\n",
    "print(hobbies)\n",
    "print(user)\n",
    "print(grades)\n",
    "print(unique_numbers)"
   ]
  },
  {
   "cell_type": "code",
   "execution_count": 4,
   "id": "13034a9c",
   "metadata": {},
   "outputs": [
    {
     "name": "stdout",
     "output_type": "stream",
     "text": [
      "Перша константа: True\n",
      "Друга константа: None\n"
     ]
    }
   ],
   "source": [
    "print(\"Перша константа:\", True)\n",
    "print(\"Друга константа:\", None)"
   ]
  },
  {
   "cell_type": "code",
   "execution_count": 5,
   "id": "6782f08c",
   "metadata": {},
   "outputs": [
    {
     "name": "stdout",
     "output_type": "stream",
     "text": [
      "Абсолютне значення: 50\n",
      "Довжина списку: 3\n",
      "Максимальна оцінка: 100\n"
     ]
    }
   ],
   "source": [
    "print(\"Абсолютне значення:\", abs(-50))\n",
    "print(\"Довжина списку:\", len(hobbies))\n",
    "print(\"Максимальна оцінка:\", max(grades))"
   ]
  },
  {
   "cell_type": "code",
   "execution_count": 7,
   "id": "a22b7442",
   "metadata": {},
   "outputs": [
    {
     "name": "stdout",
     "output_type": "stream",
     "text": [
      "\n",
      "Приклад циклу for:\n",
      "Крок 0\n",
      "Крок 1\n",
      "Крок 2\n",
      "\n",
      "Приклад циклу while:\n",
      "Лічильник: 0\n",
      "Лічильник: 1\n",
      "Лічильник: 2\n"
     ]
    }
   ],
   "source": [
    "print(\"\\nПриклад циклу for:\")\n",
    "for i in range(3):\n",
    "    print(f\"Крок {i}\")\n",
    "\n",
    "print(\"\\nПриклад циклу while:\")\n",
    "counter = 0\n",
    "while counter < 3:\n",
    "    print(\"Лічильник:\", counter)\n",
    "    counter += 1"
   ]
  },
  {
   "cell_type": "code",
   "execution_count": 8,
   "id": "24ee8a30",
   "metadata": {},
   "outputs": [
    {
     "name": "stdout",
     "output_type": "stream",
     "text": [
      "Прохолодно\n"
     ]
    }
   ],
   "source": [
    "temperature = 5\n",
    "if temperature > 20:\n",
    "    print(\"Тепло\")\n",
    "elif temperature > 0:\n",
    "    print(\"Прохолодно\")\n",
    "else:\n",
    "    print(\"Мороз\")"
   ]
  },
  {
   "cell_type": "code",
   "execution_count": 9,
   "id": "f573273b",
   "metadata": {},
   "outputs": [
    {
     "name": "stdout",
     "output_type": "stream",
     "text": [
      "Сталася помилка: invalid literal for int() with base 10: 'abc'\n",
      "Цей блок виконається завжди\n"
     ]
    }
   ],
   "source": [
    "try:\n",
    "    num = int(\"abc\")  # це викличе помилку\n",
    "except ValueError as e:\n",
    "    print(\"Сталася помилка:\", e)\n",
    "finally:\n",
    "    print(\"Цей блок виконається завжди\")"
   ]
  },
  {
   "cell_type": "code",
   "execution_count": 10,
   "id": "75fa1a81",
   "metadata": {},
   "outputs": [
    {
     "name": "stdout",
     "output_type": "stream",
     "text": [
      "Зміст файлу: Це запис у файл через контекст-менеджер\n"
     ]
    }
   ],
   "source": [
    "with open(\"example.txt\", \"w\") as f:\n",
    "    f.write(\"Це запис у файл через контекст-менеджер\")\n",
    "\n",
    "with open(\"example.txt\", \"r\") as f:\n",
    "    print(\"Зміст файлу:\", f.read())"
   ]
  },
  {
   "cell_type": "code",
   "execution_count": 11,
   "id": "8f2cc287",
   "metadata": {},
   "outputs": [
    {
     "name": "stdout",
     "output_type": "stream",
     "text": [
      "Результат лямбди: 12\n",
      "Привіт, Назар!\n"
     ]
    }
   ],
   "source": [
    "add_numbers = lambda x, y: x + y\n",
    "say_hello = lambda who: f\"Привіт, {who}!\"\n",
    "\n",
    "print(\"Результат лямбди:\", add_numbers(5, 7))\n",
    "print(say_hello(\"Назар\"))"
   ]
  }
 ],
 "metadata": {
  "kernelspec": {
   "display_name": "Python 3",
   "language": "python",
   "name": "python3"
  },
  "language_info": {
   "codemirror_mode": {
    "name": "ipython",
    "version": 3
   },
   "file_extension": ".py",
   "mimetype": "text/x-python",
   "name": "python",
   "nbconvert_exporter": "python",
   "pygments_lexer": "ipython3",
   "version": "3.13.7"
  }
 },
 "nbformat": 4,
 "nbformat_minor": 5
}
