{
 "cells": [
  {
   "cell_type": "markdown",
   "id": "ff7fb2a7",
   "metadata": {},
   "source": [
    "# Створюємо базовий клас"
   ]
  },
  {
   "cell_type": "code",
   "execution_count": 1,
   "id": "0bd4816b",
   "metadata": {},
   "outputs": [
    {
     "name": "stdout",
     "output_type": "stream",
     "text": [
      "<__main__.MyAnimals object at 0x000001CD1C008590>\n"
     ]
    }
   ],
   "source": [
    "class MyAnimals:\n",
    "    pass\n",
    "\n",
    "a = MyAnimals()\n",
    "print(a)"
   ]
  },
  {
   "cell_type": "markdown",
   "id": "4047af11",
   "metadata": {},
   "source": [
    "# Порівняння простих даних з обєктами"
   ]
  },
  {
   "cell_type": "code",
   "execution_count": 4,
   "id": "521388ce",
   "metadata": {},
   "outputs": [
    {
     "name": "stdout",
     "output_type": "stream",
     "text": [
      "В мене є тваринка Кіт яку звати Мурка якій 5 років\n",
      "В мене є тваринка Рибки яку звати Неон якій 1 років\n",
      "В мене є тваринка Кіт яку звати Мурка якій 5 років\n",
      "В мене є тваринка Собака яку звати Рекс якій 2 років\n",
      "Мурка\n",
      "Я переіменував свою тваринку на Машка, вона важить 10 кг\n",
      "Моя тваринка Неон, вона важить 0 кг\n"
     ]
    }
   ],
   "source": [
    "animals = [\"Рибки\", \"Кіт\", \"Собака\"]\n",
    "name = [\"Неони\", \"Мурка\", \"Рекс\"]\n",
    "age = [1, 5, 2]\n",
    "\n",
    "print(f\"В мене є тваринка {animals[1]} яку звати {name[1]} якій {age[1]} років\")\n",
    "\n",
    "class MyAnimals:\n",
    "    def __init__(self, animals, name, age, mass=None) -> None:\n",
    "        print(f\"В мене є тваринка {animals} яку звати {name} якій {age} років\")\n",
    "        self.animals = animals\n",
    "        self.name = name\n",
    "        self.age = age\n",
    "        self.mass = 0 if mass is None else mass\n",
    "\n",
    "\n",
    "# створюємо об’єкти з новими іменами\n",
    "fish = MyAnimals(\"Рибки\", \"Неон\", 1)\n",
    "cat = MyAnimals(\"Кіт\", \"Мурка\", 5, 10)\n",
    "dog = MyAnimals(\"Собака\", \"Рекс\", 2)\n",
    "\n",
    "print(cat.name)\n",
    "cat.name = \"Машка\"\n",
    "print(f\"Я переіменував свою тваринку на {cat.name}, вона важить {cat.mass} кг\")\n",
    "\n",
    "print(f\"Моя тваринка {fish.name}, вона важить {fish.mass} кг\")\n"
   ]
  },
  {
   "cell_type": "markdown",
   "id": "9282d687",
   "metadata": {},
   "source": [
    "# Методи класу"
   ]
  },
  {
   "cell_type": "code",
   "execution_count": 6,
   "id": "d0f98079",
   "metadata": {},
   "outputs": [
    {
     "name": "stdout",
     "output_type": "stream",
     "text": [
      "В мене є тваринка Рибки яку звати Неон якій 1 років\n",
      "В мене є тваринка Кіт яку звати Мурка якій 5 років\n",
      "В мене є тваринка Собака яку звати Рекс якій 2 років\n",
      "Моя тваринка Рибки не розмовляє\n",
      "Моя тваринка Кіт говорить Мяууу\n",
      "Моя тваринка Собака говорить Гавв\n",
      "Моя тваринка Рибки прожила зі мною ще один рік\n",
      "Моя тваринка Кіт прожила зі мною ще один рік\n",
      "Моя тваринка Собака прожила зі мною ще один рік\n",
      "Неон тепер має 2 років\n",
      "Мурка тепер має 6 років\n",
      "Рекс тепер має 3 років\n"
     ]
    }
   ],
   "source": [
    "class MyAnimals:\n",
    "    def __init__(self, animals, name, age, mass=None) -> None:\n",
    "        print(f\"В мене є тваринка {animals} яку звати {name} якій {age} років\")\n",
    "        self.animals = animals\n",
    "        self.name = name\n",
    "        self.age = age\n",
    "        self.mass = 0 if mass is None else mass\n",
    "    \n",
    "    def speak(self):\n",
    "        if self.animals == \"Кіт\":\n",
    "            return f\"Моя тваринка {self.animals} говорить Мяууу\"\n",
    "        elif self.animals == \"Собака\":\n",
    "            return f\"Моя тваринка {self.animals} говорить Гавв\"\n",
    "        else:\n",
    "            return f\"Моя тваринка {self.animals} не розмовляє\"\n",
    "    \n",
    "    def add_one_year(self):\n",
    "        self.age += 1\n",
    "        return f\"Моя тваринка {self.animals} прожила зі мною ще один рік\"\n",
    "\n",
    "\n",
    "# створюємо об’єкти\n",
    "a1 = MyAnimals(\"Рибки\", \"Неон\", 1)\n",
    "a2 = MyAnimals(\"Кіт\", \"Мурка\", 5, 10)\n",
    "a3 = MyAnimals(\"Собака\", \"Рекс\", 2)\n",
    "\n",
    "# застосовуємо методи до всіх об’єктів\n",
    "print(a1.speak())\n",
    "print(a2.speak())\n",
    "print(a3.speak())\n",
    "\n",
    "print(a1.add_one_year())\n",
    "print(a2.add_one_year())\n",
    "print(a3.add_one_year())\n",
    "\n",
    "# перевіримо новий вік після додавання року\n",
    "print(f\"{a1.name} тепер має {a1.age} років\")\n",
    "print(f\"{a2.name} тепер має {a2.age} років\")\n",
    "print(f\"{a3.name} тепер має {a3.age} років\")\n"
   ]
  },
  {
   "cell_type": "markdown",
   "id": "cff2cc54",
   "metadata": {},
   "source": [
    "# Змінні класу, глобальні змінні над всіма обєктами"
   ]
  },
  {
   "cell_type": "code",
   "execution_count": null,
   "id": "0b0c66a5",
   "metadata": {},
   "outputs": [
    {
     "name": "stdout",
     "output_type": "stream",
     "text": [
      "В мене є тваринка Рибки яку звати Неони, якій 1 років\n",
      "В мене є тваринка Рибки яку звати Гупії, якій 1 років\n",
      "В мене є тваринка Рибки яку звати Соміки, якій 1 років\n",
      "В мене є тваринка Кіт яку звати Мурка, якій 5 років\n",
      "В мене є тваринка Собака яку звати Рекс, якій 2 років\n",
      "\n",
      "В мене зараз є тваринки ['Собака', 'Рибки', 'Кіт'], їх кількість 5\n",
      "\n",
      "Я доступаюсь до змінної класу з об'єкта: {'Собака', 'Рибки', 'Кіт'}\n",
      "Я доступаюсь до змінної класу з об'єкта: {'Слон'} та з класу: {'Собака', 'Рибки', 'Кіт'}\n"
     ]
    }
   ],
   "source": [
    "class MyAnimals:\n",
    "    total_animals = 0\n",
    "    total_animal_types = set()\n",
    "\n",
    "    def __init__(self, animals, name, age, mass=None) -> None:\n",
    "        print(f\"В мене є тваринка {animals} яку звати {name}, якій {age} років\")\n",
    "        self.animals = animals\n",
    "        self.name = name\n",
    "        self.age = age\n",
    "        self.mass = 0 if mass is None else mass\n",
    "\n",
    "        MyAnimals.total_animal_types.add(animals)\n",
    "        MyAnimals.total_animals += 1\n",
    "\n",
    "\n",
    "animal_data = [\n",
    "    (\"Рибки\", \"Неони\", 1),\n",
    "    (\"Рибки\", \"Гупії\", 1),\n",
    "    (\"Рибки\", \"Соміки\", 1),\n",
    "    (\"Кіт\", \"Мурка\", 5, 10),\n",
    "    (\"Собака\", \"Рекс\", 2, 15)\n",
    "]\n",
    "\n",
    "animals_list = []\n",
    "for data in animal_data:\n",
    "    animals_list.append(MyAnimals(*data))\n",
    "\n",
    "print(f\"\\nВ мене зараз є тваринки {list(MyAnimals.total_animal_types)}, їх кількість {MyAnimals.total_animals}\")\n",
    "\n",
    "a1 = animals_list[0]\n",
    "print(f\"\\nЯ доступаюсь до змінної класу з об'єкта: {a1.total_animal_types}\")\n",
    "a1.total_animal_types = {\"Слон\"}\n",
    "print(f\"Я доступаюсь до змінної класу з об'єкта: {a1.total_animal_types} та з класу: {MyAnimals.total_animal_types}\")\n"
   ]
  },
  {
   "cell_type": "markdown",
   "id": "0901d269",
   "metadata": {},
   "source": [
    "# Статичні методи та змінна self"
   ]
  },
  {
   "cell_type": "code",
   "execution_count": null,
   "id": "cda047e2",
   "metadata": {},
   "outputs": [
    {
     "name": "stdout",
     "output_type": "stream",
     "text": [
      "Виклик через об'єкт a1: Тваринка біжить до нас\n",
      "Виклик через об'єкт a2: Тваринка біжить до нас\n",
      "Виклик напряму через клас: Тваринка біжить до нас\n",
      "\n",
      "Моя тваринка Рибки прожила зі мною ще один рік\n",
      "Моя тваринка Кіт прожила зі мною ще один рік\n"
     ]
    }
   ],
   "source": [
    "class MyAnimals:\n",
    "    def __init__(self, animals, name, age) -> None:\n",
    "        self.animals = animals\n",
    "        self.name = name\n",
    "        self.age = age\n",
    "    \n",
    "    def add_one_year(self):\n",
    "        self.age += 1\n",
    "        return f\"Моя тваринка {self.animals} прожила зі мною ще один рік\"\n",
    "\n",
    "    @staticmethod\n",
    "    def call_pet():\n",
    "        return \"Тваринка біжить до нас\"\n",
    "\n",
    "\n",
    "a1 = MyAnimals(\"Рибки\", \"Гупії\", 1)\n",
    "a2 = MyAnimals(\"Кіт\", \"Мурка\", 5)\n",
    "\n",
    "print(f\"Виклик через об'єкт a1: {a1.call_pet()}\")\n",
    "print(f\"Виклик через об'єкт a2: {a2.call_pet()}\")\n",
    "print(f\"Виклик напряму через клас: {MyAnimals.call_pet()}\")\n",
    "\n",
    "print(f\"\\n{a1.add_one_year()}\")\n",
    "print(MyAnimals.add_one_year(a2))\n"
   ]
  },
  {
   "cell_type": "markdown",
   "id": "82aa55fa",
   "metadata": {},
   "source": [
    "# Робота з properties"
   ]
  },
  {
   "cell_type": "code",
   "execution_count": 3,
   "id": "66bbc5d1",
   "metadata": {},
   "outputs": [
    {
     "name": "stdout",
     "output_type": "stream",
     "text": [
      "Мій Кіт (доросла) буде зі мною до 2040 року\n",
      "Після року: Кіт тепер доросла і буде зі мною до 2039 року\n"
     ]
    }
   ],
   "source": [
    "from datetime import datetime\n",
    "\n",
    "class MyAnimals:\n",
    "    max_age = 20\n",
    "\n",
    "    def __init__(self, animals, name, age) -> None:\n",
    "        self.animals = animals\n",
    "        self.name = name\n",
    "        self.age = age\n",
    "    \n",
    "    @property\n",
    "    def live_untill(self):\n",
    "        \"\"\"Розраховує приблизний рік життя тваринки\"\"\"\n",
    "        return datetime.today().year - self.age + self.max_age\n",
    "\n",
    "    @property\n",
    "    def age_category(self):\n",
    "        \"\"\"Показує вікову категорію тваринки\"\"\"\n",
    "        if self.age < 3:\n",
    "            return \"молода\"\n",
    "        elif self.age < 10:\n",
    "            return \"доросла\"\n",
    "        else:\n",
    "            return \"стара\"\n",
    "    \n",
    "    def add_one_year(self):\n",
    "        self.age += 1\n",
    "        return f\"Моя тваринка {self.animals} прожила зі мною ще один рік\"\n",
    "\n",
    "\n",
    "# Створення об’єкта\n",
    "a1 = MyAnimals(\"Кіт\", \"Мурка\", 5)\n",
    "\n",
    "# Використання properties\n",
    "print(f\"Мій {a1.animals} ({a1.age_category}) буде зі мною до {a1.live_untill} року\")\n",
    "\n",
    "a1.add_one_year()\n",
    "print(f\"Після року: {a1.animals} тепер {a1.age_category} і буде зі мною до {a1.live_untill} року\")\n"
   ]
  },
  {
   "cell_type": "markdown",
   "id": "6cd96999",
   "metadata": {},
   "source": [
    "# Методи Класу"
   ]
  },
  {
   "cell_type": "code",
   "execution_count": null,
   "id": "9ee09a4c",
   "metadata": {},
   "outputs": [
    {
     "name": "stdout",
     "output_type": "stream",
     "text": [
      "Мій Кіт, звати Мурка, має 5 років\n",
      "Мій Собака, звати рекс, має 2 років\n",
      "✅ Ім'я 'Мурка' починається з великої літери.\n",
      "❌ Ім'я 'рекс' починається з маленької літери!\n",
      "Загальна кількість об'єктів: 2, створених з CSV: 1\n"
     ]
    }
   ],
   "source": [
    "class MyAnimals:\n",
    "    total_csv = 0\n",
    "    total_objects = 0\n",
    "\n",
    "    def __init__(self, animals, name, age) -> None:\n",
    "        self.animals = animals\n",
    "        self.name = name\n",
    "        self.age = age\n",
    "        MyAnimals.total_objects += 1\n",
    "\n",
    "    @classmethod\n",
    "    def from_csv(cls, csv_data: str):\n",
    "        cls.total_csv += 1\n",
    "        animal, name, age = csv_data.split(\",\")\n",
    "        return cls(animal, name, int(age))\n",
    "\n",
    "    @classmethod\n",
    "    def check_name_capital(cls, obj):\n",
    "        \"\"\"Перевіряє, чи ім’я починається з великої літери\"\"\"\n",
    "        if obj.name[0].isupper():\n",
    "            return f\"✅ Ім'я '{obj.name}' починається з великої літери.\"\n",
    "        else:\n",
    "            return f\"❌ Ім'я '{obj.name}' починається з маленької літери!\"\n",
    "\n",
    "\n",
    "a1 = MyAnimals.from_csv(\"Кіт,Мурка,5\")\n",
    "a2 = MyAnimals(\"Собака\", \"рекс\", 2)\n",
    "\n",
    "print(f\"Мій {a1.animals}, звати {a1.name}, має {a1.age} років\")\n",
    "print(f\"Мій {a2.animals}, звати {a2.name}, має {a2.age} років\")\n",
    "\n",
    "print(MyAnimals.check_name_capital(a1))\n",
    "print(MyAnimals.check_name_capital(a2))\n",
    "\n",
    "print(f\"Загальна кількість об'єктів: {MyAnimals.total_objects}, створених з CSV: {MyAnimals.total_csv}\")\n"
   ]
  },
  {
   "cell_type": "markdown",
   "id": "09a4cd7c",
   "metadata": {},
   "source": [
    "# Приватні атрибути та методи"
   ]
  },
  {
   "cell_type": "code",
   "execution_count": 7,
   "id": "0b3768bd",
   "metadata": {},
   "outputs": [
    {
     "name": "stdout",
     "output_type": "stream",
     "text": [
      "Це приватний атрибут (як я буду кликати свою тваринку)\n",
      "Я змінив приватний атрибут\n",
      "Цей атрибут точно не можна викликати ззовні!!\n",
      "Ми доступаємось до приватного атрибуту з property: Я змінив приватний атрибут\n",
      "Ми доступаємось до приватного атрибуту з property: Цей атрибут точно не можна викликати ззовні!!\n",
      "Приватний метод — краще його не рухати, він потрібен всередині класу\n",
      "Це неможливо викликати напряму ззовні!\n"
     ]
    }
   ],
   "source": [
    "class MyAnimals:\n",
    "    def __init__(self, animals, name, age) -> None:\n",
    "        self.animals = animals\n",
    "        self.name = name\n",
    "        self.age = age\n",
    "        self._secret_phrase = \"Це приватний атрибут (як я буду кликати свою тваринку)\"\n",
    "        self.__secret_strong = \"Цей атрибут точно не можна викликати ззовні!!\"\n",
    "    \n",
    "    @property\n",
    "    def secret_phrase(self):\n",
    "        return f\"Ми доступаємось до приватного атрибуту з property: {self._secret_phrase}\"\n",
    "    \n",
    "    @property\n",
    "    def secret_strong(self):\n",
    "        return f\"Ми доступаємось до приватного атрибуту з property: {self.__secret_strong}\"\n",
    "\n",
    "    def _secret_method(self):\n",
    "        return \"Приватний метод — краще його не рухати, він потрібен всередині класу\"\n",
    "\n",
    "    def __do_not_touch_it(self):\n",
    "        return \"Це неможливо викликати напряму ззовні!\"\n",
    "\n",
    "a1 = MyAnimals(\"Собака\", \"Рекс\", 2)\n",
    "\n",
    "print(a1._secret_phrase)\n",
    "a1._secret_phrase = \"Я змінив приватний атрибут\"\n",
    "print(a1._secret_phrase)\n",
    "\n",
    "print(a1._MyAnimals__secret_strong)\n",
    "\n",
    "print(a1.secret_phrase)\n",
    "\n",
    "print(a1.secret_strong)\n",
    "\n",
    "print(a1._secret_method())\n",
    "\n",
    "print(a1._MyAnimals__do_not_touch_it())\n"
   ]
  },
  {
   "cell_type": "markdown",
   "id": "86d009f3",
   "metadata": {},
   "source": [
    "# Магічні методи"
   ]
  },
  {
   "cell_type": "code",
   "execution_count": 6,
   "id": "c5e8a9a7",
   "metadata": {},
   "outputs": [
    {
     "name": "stdout",
     "output_type": "stream",
     "text": [
      "Це є об'єкт MyAnimals(\"Собака\", \"Рекс\", 2)\n",
      "MyAnimals(\"Собака\", \"Рекс\", 2)\n",
      "Це є об'єкт MyAnimals(\"Собака\", \"Рекс\", 2)\n"
     ]
    }
   ],
   "source": [
    "class MyAnimals:\n",
    "    def __init__(self, animals, name, age) -> None:\n",
    "        self.animals = animals\n",
    "        self.name = name\n",
    "        self.age = age\n",
    "\n",
    "    def __repr__(self) -> str:\n",
    "        return f'MyAnimals(\"{self.animals}\", \"{self.name}\", {self.age})'\n",
    "\n",
    "    def __str__(self) -> str:\n",
    "        return f\"Це є об'єкт {self.__repr__()}\"\n",
    "\n",
    "a1 = MyAnimals(\"Собака\", \"Рекс\", 2)\n",
    "\n",
    "print(a1)\n",
    "\n",
    "print(repr(a1))\n",
    "\n",
    "print(str(a1))\n"
   ]
  },
  {
   "cell_type": "markdown",
   "id": "4201f145",
   "metadata": {},
   "source": [
    "# Арифметичний метод"
   ]
  },
  {
   "cell_type": "code",
   "execution_count": 8,
   "id": "393311a2",
   "metadata": {},
   "outputs": [
    {
     "name": "stdout",
     "output_type": "stream",
     "text": [
      "7 1 10 2C\n",
      "7 1 10\n",
      "Мій Рекс покусав Мурзик\n",
      "Мій Рекс постарів на 1 років, тепер йому 3\n",
      "Операція неможлива (непідтримуваний тип)\n",
      "Старшим є Мурзик\n",
      "Старшим є Мурзик\n",
      "Ми зайшли в метод len() і рахуємо довжину імені тваринки\n",
      "Довжина імені Рекс: 4 символів\n"
     ]
    }
   ],
   "source": [
    "a = 2\n",
    "b = 5\n",
    "c = \"C\"\n",
    "\n",
    "print(a + b, a - int(1), a * b, str(a) + c)\n",
    "print(a.__add__(b), a.__sub__(int(1)), a.__mul__(b))\n",
    "\n",
    "\n",
    "class MyAnimals:\n",
    "    def __init__(self, animals, name, age) -> None:\n",
    "        self.animals = animals\n",
    "        self.name = name\n",
    "        self.age = age\n",
    "\n",
    "    def __sub__(self, obj):\n",
    "        if isinstance(obj, MyAnimals):\n",
    "            return f\"Мій {self.name} покусав {obj.name}\"\n",
    "        elif isinstance(obj, int):\n",
    "            self.age += obj\n",
    "            return f\"Мій {self.name} постарів на {obj} років, тепер йому {self.age}\"\n",
    "        else:\n",
    "            return \"Операція неможлива (непідтримуваний тип)\"\n",
    "\n",
    "    def __gt__(self, obj):\n",
    "        if isinstance(obj, MyAnimals):\n",
    "            if self.age > obj.age:\n",
    "                return f\"Старшим є {self.name}\"\n",
    "            elif self.age < obj.age:\n",
    "                return f\"Старшим є {obj.name}\"\n",
    "            else:\n",
    "                return f\"{self.name} і {obj.name} одного віку\"\n",
    "        else:\n",
    "            return \"Порівняння неможливе (непідтримуваний тип)\"\n",
    "    \n",
    "    def __len__(self) -> int:\n",
    "        print(\"Ми зайшли в метод len() і рахуємо довжину імені тваринки\")\n",
    "        return len(self.name)\n",
    "\n",
    "\n",
    "a = MyAnimals(\"Собака\", \"Рекс\", 2)\n",
    "b = MyAnimals(\"Кіт\", \"Мурзик\", 4)\n",
    "\n",
    "print(a - b)\n",
    "print(a - 1)\n",
    "print(a - 1.0)\n",
    "\n",
    "print(a > b)\n",
    "print(b > a)\n",
    "\n",
    "print(f\"Довжина імені {a.name}: {len(a)} символів\")\n"
   ]
  }
 ],
 "metadata": {
  "kernelspec": {
   "display_name": "Python 3",
   "language": "python",
   "name": "python3"
  },
  "language_info": {
   "codemirror_mode": {
    "name": "ipython",
    "version": 3
   },
   "file_extension": ".py",
   "mimetype": "text/x-python",
   "name": "python",
   "nbconvert_exporter": "python",
   "pygments_lexer": "ipython3",
   "version": "3.13.7"
  }
 },
 "nbformat": 4,
 "nbformat_minor": 5
}
